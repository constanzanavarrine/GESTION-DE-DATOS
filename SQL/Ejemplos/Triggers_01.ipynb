{
 "cells": [
  {
   "cell_type": "code",
   "execution_count": null,
   "id": "7638df80",
   "metadata": {
    "vscode": {
     "languageId": "sql"
    }
   },
   "outputs": [],
   "source": [
    "\n",
    "---Ejemplo nro 1\n",
    "-- Descripcion: no permitir la actualizacion de la tabla FACT_DET. En el caso\n",
    "-- que se intente actualizar, enerar un mensaje de error y no permitir la confirmacion\n",
    "-- de la transaccion\n",
    "\n",
    "---- Creacion\n",
    "CREATE TRIGGER no_act_det\n",
    "ON fact_det\n",
    "FOR UPDATE\n",
    "AS\n",
    "BEGIN \n",
    "    SET NOCOUNT ON; -- Evita el mensaje de 'N filas afectadas'\n",
    "\n",
    "    BEGIN TRY\n",
    "        RAISERROR('No esta permitido actualizar el detalle', 16, 1);\n",
    "    END TRY\n",
    "    BEGIN CATCH\n",
    "        DECLARE @ErrorMessage NVARCHAR(4000) = ERROR_MESSAGE()\n",
    "        DECLARE @ErrorSeverity INT = ERROR_SEVERITY()\n",
    "        DECLARE @ErrorState INT = ERROR_STATE()\n",
    "\n",
    "        RAISERROR(@ErrorMessage, @ErrorSeverity, @ErrorState)\n",
    "    END CATCH\n",
    "END; \n",
    "\n",
    "\n",
    "---- Ejecucion\n",
    "UPDATE fact_det\n",
    "SET cantidad = 1\n",
    "WHERE fact_id = 1 \n",
    "go \n"
   ]
  },
  {
   "cell_type": "markdown",
   "id": "acd34636",
   "metadata": {},
   "source": []
  }
 ],
 "metadata": {
  "language_info": {
   "name": "python"
  }
 },
 "nbformat": 4,
 "nbformat_minor": 5
}
